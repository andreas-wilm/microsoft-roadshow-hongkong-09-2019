{
 "cells": [
  {
   "cell_type": "markdown",
   "metadata": {},
   "source": [
    "# Jupyter Notebooks Primer\n",
    "\n",
    "- Jupyter notebooks allow you to run code in your browser\n",
    "- In a nutshell, notebooks consists of cells, that are either [markdown syntax](https://en.wikipedia.org/wiki/Markdown) (for comments etc.) or code\n",
    "- Code cells are executed by selecting them and hitting \"Shift-Enter\" or clicking on Run above\n",
    "- For more info have a look at this [introduction](https://jupyter-notebook.readthedocs.io/en/stable/examples/Notebook/What%20is%20the%20Jupyter%20Notebook.html)"
   ]
  },
  {
   "cell_type": "markdown",
   "metadata": {},
   "source": [
    "# The Input Data\n",
    "\n",
    "The next cell loads pre-processed data for hundreds of samples. Columns include variant calls and some meta-information"
   ]
  },
  {
   "cell_type": "code",
   "execution_count": null,
   "metadata": {},
   "outputs": [],
   "source": [
    "import pandas as pd\n",
    "# load the csv file as pandas dataframe\n",
    "url = \"https://raw.githubusercontent.com/andreas-wilm/microsoft-roadshow-hongkong-09-2019/master/sample_matrix_clean_m-5-75.csv?token=AAILSCML6YI4HX6W6WXEVAC5P6Q2S\"\n",
    "df = pd.read_csv(url)\n"
   ]
  },
  {
   "cell_type": "code",
   "execution_count": null,
   "metadata": {},
   "outputs": [],
   "source": [
    "# display the dataframe\n",
    "df"
   ]
  },
  {
   "cell_type": "code",
   "execution_count": null,
   "metadata": {},
   "outputs": [],
   "source": [
    "# Remove columns that don't go into AutoML as features but keep a copy\n",
    "annotation = df[[\"ID\", \"Status\", \"Gender\"]].copy()\n",
    "df = df.drop([\"ID\", \"Status\"], axis=1)\n"
   ]
  },
  {
   "cell_type": "code",
   "execution_count": null,
   "metadata": {},
   "outputs": [],
   "source": [
    "# Split into training and test set\n",
    "from sklearn.model_selection import train_test_split\n",
    "X_train, X_test, y_train, y_test = train_test_split(\n",
    "    df, annotation['Status'], test_size=0.2, random_state=42)\n"
   ]
  },
  {
   "cell_type": "markdown",
   "metadata": {},
   "source": [
    "# AutoML run (local)"
   ]
  },
  {
   "cell_type": "markdown",
   "metadata": {},
   "source": [
    "\n",
    "A very cool feature in AutoML is automatic preprocessing (see `preprocess` below), which can automatically impute missing values, encode values, add features, embed words etc. See [here](https://docs.microsoft.com/en-us/azure/machine-learning/service/how-to-create-portal-experiments#preprocess) for more information. Since the data-set here is clean already, there is no need for this.\n",
    "\n",
    "To run AutoML we first define some basic settings"
   ]
  },
  {
   "cell_type": "code",
   "execution_count": null,
   "metadata": {},
   "outputs": [],
   "source": [
    "import logging\n",
    "\n",
    "automl_settings = {\n",
    "    \"iteration_timeout_minutes\": 1,\n",
    "    \"iterations\": 10,\n",
    "    \"primary_metric\": 'accuracy',\n",
    "    \"preprocess\": False,\n",
    "    \"verbosity\": logging.INFO,\n",
    "    \"n_cross_validations\": 5\n",
    "}"
   ]
  },
  {
   "cell_type": "code",
   "execution_count": null,
   "metadata": {},
   "outputs": [],
   "source": [
    "from azureml.train.automl import AutoMLConfig\n",
    "\n",
    "automl_config = AutoMLConfig(task='classification',\n",
    "                             debug_log='automated_ml_errors.log',\n",
    "                             X=X_train.values,\n",
    "                             y=y_train.values.flatten(),\n",
    "                             **automl_settings)"
   ]
  },
  {
   "cell_type": "markdown",
   "metadata": {},
   "source": [
    "Connect to the ML workspace on Azure so that everything is logged there as well.\n",
    "\n",
    "**Please note:** the following will require interactive authentication. Simply follow the instructions\n",
    " "
   ]
  },
  {
   "cell_type": "code",
   "execution_count": null,
   "metadata": {},
   "outputs": [],
   "source": [
    "from azureml.core import Workspace\n",
    "ws = Workspace.from_config()"
   ]
  },
  {
   "cell_type": "code",
   "execution_count": null,
   "metadata": {},
   "outputs": [],
   "source": [
    "# submit the experiment.\n",
    "# note how automl runs multiple algorithms with different parameters automatically for you\n",
    "from azureml.core.experiment import Experiment\n",
    "experiment = Experiment(ws, \"vcf-classification-local\")\n",
    "local_run = experiment.submit(automl_config, show_output=True)"
   ]
  },
  {
   "cell_type": "code",
   "execution_count": null,
   "metadata": {},
   "outputs": [],
   "source": [
    "# Show the run details widget\n",
    "from azureml.widgets import RunDetails\n",
    "RunDetails(local_run).show()"
   ]
  },
  {
   "cell_type": "markdown",
   "metadata": {},
   "source": [
    "# Predict outcome"
   ]
  },
  {
   "cell_type": "code",
   "execution_count": null,
   "metadata": {},
   "outputs": [],
   "source": [
    "# get the best model\n",
    "best_run, fitted_model = local_run.get_output()\n"
   ]
  },
  {
   "cell_type": "code",
   "execution_count": null,
   "metadata": {},
   "outputs": [],
   "source": [
    "# predict outcome for 10 samples\n",
    "y_predict = fitted_model.predict(X_test.values)\n",
    "print(\"Sample\\tPredicted\\tActual\")\n",
    "for idx, (dfidx, dfrow) in enumerate(X_test.iterrows()):\n",
    "    print(\"{}\\t{}\\t{}\".format(annotation.at[dfidx, 'ID'],\n",
    "                              y_predict[idx],\n",
    "                              annotation.at[dfidx, 'Status']))\n",
    "    # top 10 is enough\n",
    "    if idx == 9:\n",
    "        break\n",
    "print(\"...\")"
   ]
  },
  {
   "cell_type": "markdown",
   "metadata": {},
   "source": [
    "## Print stats and plot a confusion Matrix "
   ]
  },
  {
   "cell_type": "code",
   "execution_count": null,
   "metadata": {},
   "outputs": [],
   "source": [
    "# idea from https://datatofish.com/confusion-matrix-python/\n",
    "y_actual  = []\n",
    "for dfidx, dfrow in X_test.iterrows():# what's the pandassy way of doing this?\n",
    "    y_actual.append(annotation.at[dfidx, 'Status'])\n",
    "    \n",
    "data = {'y_Predicted': y_predict,\n",
    "        'y_Actual': y_actual}\n",
    "df = pd.DataFrame(data, columns=['y_Actual','y_Predicted'])"
   ]
  },
  {
   "cell_type": "code",
   "execution_count": null,
   "metadata": {},
   "outputs": [],
   "source": [
    "# print stats\n",
    "from pandas_ml import ConfusionMatrix\n",
    "Confusion_Matrix = ConfusionMatrix(df['y_Actual'], df['y_Predicted'])\n",
    "Confusion_Matrix.print_stats()"
   ]
  },
  {
   "cell_type": "code",
   "execution_count": null,
   "metadata": {},
   "outputs": [],
   "source": [
    "# plot confusion matrix\n",
    "# idea from https://stackoverflow.com/questions/19233771/sklearn-plot-confusion-matrix-with-labels/48018785\n",
    "import seaborn as sn\n",
    "\n",
    "import matplotlib.pyplot as plt     \n",
    "ax = plt.subplot()\n",
    "\n",
    "confusion_matrix = pd.crosstab(df['y_Actual'], df['y_Predicted'], \n",
    "                               rownames=['Actual'], colnames=['Predicted'])\n",
    "\n",
    "sn.heatmap(confusion_matrix, annot=True, ax = ax)\n",
    "\n",
    "# labels, title and ticks\n",
    "ax.set_xlabel('Predicted')\n",
    "ax.set_ylabel('True')\n",
    "ax.set_title('Confusion Matrix')"
   ]
  },
  {
   "cell_type": "markdown",
   "metadata": {},
   "source": [
    "## Model Interpretability and Explainability\n",
    "\n",
    "Microsoft has [six guiding AI principles](https://blogs.partner.microsoft.com/mpn/shared-responsibility-ai-2/). One of these is transparency, which states that it must be possible to understand how AI decisions were made. This is where [model interpretability](https://docs.microsoft.com/en-us/azure/machine-learning/service/machine-learning-interpretability-explainability) comes into play. Here we will use a TabularExplainer to understand global behavior of our model. "
   ]
  },
  {
   "cell_type": "code",
   "execution_count": null,
   "metadata": {},
   "outputs": [],
   "source": [
    "from azureml.explain.model.tabular_explainer import TabularExplainer\n",
    "# \"features\" and \"classes\" fields are optional. couldn't figure out how to use them\n",
    "explainer = TabularExplainer(fitted_model, X_train)"
   ]
  },
  {
   "cell_type": "code",
   "execution_count": null,
   "metadata": {},
   "outputs": [],
   "source": [
    "# Now run the explainer. This takes some time...\n",
    "global_explanation = explainer.explain_global(X_train)"
   ]
  },
  {
   "cell_type": "code",
   "execution_count": null,
   "metadata": {},
   "outputs": [],
   "source": [
    "# Let's find the top features\n",
    "sorted_global_importance_names = global_explanation.get_ranked_global_names()\n",
    "print(\"Top 10 features\")\n",
    "print(\"\\n\".join(sorted_global_importance_names[:10]))\n"
   ]
  },
  {
   "cell_type": "markdown",
   "metadata": {},
   "source": [
    "This should give you an idea about the causal factors in this data-set\n"
   ]
  }
 ],
 "metadata": {
  "kernelspec": {
   "display_name": "Python 3.6 - AzureML",
   "language": "python",
   "name": "python3-azureml"
  },
  "language_info": {
   "codemirror_mode": {
    "name": "ipython",
    "version": 3
   },
   "file_extension": ".py",
   "mimetype": "text/x-python",
   "name": "python",
   "nbconvert_exporter": "python",
   "pygments_lexer": "ipython3",
   "version": "3.6.2"
  }
 },
 "nbformat": 4,
 "nbformat_minor": 2
}
